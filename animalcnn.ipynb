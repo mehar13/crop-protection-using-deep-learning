{
 "cells": [
  {
   "cell_type": "code",
   "execution_count": 1,
   "metadata": {},
   "outputs": [
    {
     "name": "stderr",
     "output_type": "stream",
     "text": [
      "Using TensorFlow backend.\n"
     ]
    }
   ],
   "source": [
    "from keras.models import Sequential\n",
    "from keras.layers import Dense\n",
    "from keras.layers import Conv2D\n",
    "from keras.layers import MaxPooling2D\n",
    "from keras.layers import Flatten"
   ]
  },
  {
   "cell_type": "code",
   "execution_count": 2,
   "metadata": {},
   "outputs": [],
   "source": [
    "model=Sequential()"
   ]
  },
  {
   "cell_type": "code",
   "execution_count": 3,
   "metadata": {},
   "outputs": [
    {
     "name": "stdout",
     "output_type": "stream",
     "text": [
      "WARNING:tensorflow:From C:\\ProgramData\\Anaconda3\\lib\\site-packages\\tensorflow\\python\\framework\\op_def_library.py:263: colocate_with (from tensorflow.python.framework.ops) is deprecated and will be removed in a future version.\n",
      "Instructions for updating:\n",
      "Colocations handled automatically by placer.\n"
     ]
    },
    {
     "name": "stderr",
     "output_type": "stream",
     "text": [
      "C:\\ProgramData\\Anaconda3\\lib\\site-packages\\ipykernel_launcher.py:1: UserWarning: Update your `Conv2D` call to the Keras 2 API: `Conv2D(32, (3, 3), input_shape=(64, 64, 3..., activation=\"relu\")`\n",
      "  \"\"\"Entry point for launching an IPython kernel.\n"
     ]
    }
   ],
   "source": [
    "model.add(Conv2D(32,3,3,input_shape=(64,64,3),activation='relu'))"
   ]
  },
  {
   "cell_type": "code",
   "execution_count": 4,
   "metadata": {},
   "outputs": [],
   "source": [
    "model.add(MaxPooling2D(pool_size=(2,2)))"
   ]
  },
  {
   "cell_type": "code",
   "execution_count": 5,
   "metadata": {},
   "outputs": [],
   "source": [
    "model.add(Flatten())"
   ]
  },
  {
   "cell_type": "code",
   "execution_count": 6,
   "metadata": {},
   "outputs": [
    {
     "name": "stderr",
     "output_type": "stream",
     "text": [
      "C:\\ProgramData\\Anaconda3\\lib\\site-packages\\ipykernel_launcher.py:1: UserWarning: Update your `Dense` call to the Keras 2 API: `Dense(activation=\"relu\", units=128, kernel_initializer=\"random_uniform\")`\n",
      "  \"\"\"Entry point for launching an IPython kernel.\n"
     ]
    }
   ],
   "source": [
    "model.add(Dense(output_dim=128,activation='relu',init='random_uniform'))"
   ]
  },
  {
   "cell_type": "code",
   "execution_count": 7,
   "metadata": {},
   "outputs": [
    {
     "name": "stderr",
     "output_type": "stream",
     "text": [
      "C:\\ProgramData\\Anaconda3\\lib\\site-packages\\ipykernel_launcher.py:1: UserWarning: Update your `Dense` call to the Keras 2 API: `Dense(activation=\"softmax\", units=5, kernel_initializer=\"random_uniform\")`\n",
      "  \"\"\"Entry point for launching an IPython kernel.\n"
     ]
    }
   ],
   "source": [
    "model.add(Dense(output_dim=5,activation='softmax',init='random_uniform'))"
   ]
  },
  {
   "cell_type": "code",
   "execution_count": 8,
   "metadata": {},
   "outputs": [],
   "source": [
    "model.compile(optimizer='adam',loss='categorical_crossentropy',metrics=['accuracy'])"
   ]
  },
  {
   "cell_type": "code",
   "execution_count": 9,
   "metadata": {},
   "outputs": [],
   "source": [
    "\n",
    "\n",
    "from keras.preprocessing.image import ImageDataGenerator"
   ]
  },
  {
   "cell_type": "code",
   "execution_count": 10,
   "metadata": {},
   "outputs": [],
   "source": [
    "train_datagen=ImageDataGenerator(rescale=1./255,shear_range=0.2,horizontal_flip=True)\n",
    "test_datagen=ImageDataGenerator(rescale=1./255)"
   ]
  },
  {
   "cell_type": "code",
   "execution_count": 11,
   "metadata": {},
   "outputs": [
    {
     "name": "stdout",
     "output_type": "stream",
     "text": [
      "Found 1495 images belonging to 5 classes.\n",
      "Found 605 images belonging to 5 classes.\n"
     ]
    }
   ],
   "source": [
    "x_train=train_datagen.flow_from_directory(r'C:\\Users\\hp\\Desktop\\animals\\training set',target_size=(64,64),batch_size=32,class_mode='categorical')\n",
    "x_test=test_datagen.flow_from_directory(r'C:\\Users\\hp\\Desktop\\animals\\testing set',target_size=(64,64),batch_size=32,class_mode='categorical')\n"
   ]
  },
  {
   "cell_type": "code",
   "execution_count": 12,
   "metadata": {},
   "outputs": [
    {
     "name": "stdout",
     "output_type": "stream",
     "text": [
      "{'bears': 0, 'crows': 1, 'elephants': 2, 'racoons': 3, 'rats': 4}\n"
     ]
    }
   ],
   "source": [
    "print(x_train.class_indices)"
   ]
  },
  {
   "cell_type": "code",
   "execution_count": 13,
   "metadata": {},
   "outputs": [
    {
     "name": "stdout",
     "output_type": "stream",
     "text": [
      "WARNING:tensorflow:From C:\\ProgramData\\Anaconda3\\lib\\site-packages\\tensorflow\\python\\ops\\math_ops.py:3066: to_int32 (from tensorflow.python.ops.math_ops) is deprecated and will be removed in a future version.\n",
      "Instructions for updating:\n",
      "Use tf.cast instead.\n"
     ]
    },
    {
     "name": "stderr",
     "output_type": "stream",
     "text": [
      "C:\\ProgramData\\Anaconda3\\lib\\site-packages\\ipykernel_launcher.py:2: UserWarning: The semantics of the Keras 2 argument `steps_per_epoch` is not the same as the Keras 1 argument `samples_per_epoch`. `steps_per_epoch` is the number of batches to draw from the generator at each epoch. Basically steps_per_epoch = samples_per_epoch/batch_size. Similarly `nb_val_samples`->`validation_steps` and `val_samples`->`steps` arguments have changed. Update your method calls accordingly.\n",
      "  \n",
      "C:\\ProgramData\\Anaconda3\\lib\\site-packages\\ipykernel_launcher.py:2: UserWarning: Update your `fit_generator` call to the Keras 2 API: `fit_generator(<keras_pre..., epochs=20, validation_data=<keras_pre..., steps_per_epoch=46, validation_steps=605)`\n",
      "  \n"
     ]
    },
    {
     "name": "stdout",
     "output_type": "stream",
     "text": [
      "Epoch 1/20\n",
      "46/46 [==============================] - 121s 3s/step - loss: 1.5393 - acc: 0.3492 - val_loss: 1.2850 - val_acc: 0.5653\n",
      "Epoch 2/20\n",
      "46/46 [==============================] - 86s 2s/step - loss: 1.1794 - acc: 0.5404 - val_loss: 1.0088 - val_acc: 0.6444\n",
      "Epoch 3/20\n",
      "46/46 [==============================] - 84s 2s/step - loss: 0.9413 - acc: 0.6517 - val_loss: 0.8707 - val_acc: 0.7027\n",
      "Epoch 4/20\n",
      "46/46 [==============================] - 82s 2s/step - loss: 0.7518 - acc: 0.7316 - val_loss: 0.6612 - val_acc: 0.8019\n",
      "Epoch 5/20\n",
      "46/46 [==============================] - 83s 2s/step - loss: 0.5626 - acc: 0.8193 - val_loss: 0.5110 - val_acc: 0.8582\n",
      "Epoch 6/20\n",
      "46/46 [==============================] - 82s 2s/step - loss: 0.4449 - acc: 0.8688 - val_loss: 0.5289 - val_acc: 0.8085\n",
      "Epoch 7/20\n",
      "46/46 [==============================] - 81s 2s/step - loss: 0.3696 - acc: 0.8964 - val_loss: 0.3236 - val_acc: 0.9142\n",
      "Epoch 8/20\n",
      "46/46 [==============================] - 82s 2s/step - loss: 0.2509 - acc: 0.9337 - val_loss: 0.2667 - val_acc: 0.9372\n",
      "Epoch 9/20\n",
      "46/46 [==============================] - 81s 2s/step - loss: 0.1758 - acc: 0.9599 - val_loss: 0.2966 - val_acc: 0.9175\n",
      "Epoch 10/20\n",
      "46/46 [==============================] - 82s 2s/step - loss: 0.1334 - acc: 0.9678 - val_loss: 0.1872 - val_acc: 0.9604\n",
      "Epoch 11/20\n",
      "46/46 [==============================] - 81s 2s/step - loss: 0.0845 - acc: 0.9878 - val_loss: 0.1939 - val_acc: 0.9437\n",
      "Epoch 12/20\n",
      "46/46 [==============================] - 81s 2s/step - loss: 0.0629 - acc: 0.9912 - val_loss: 0.1625 - val_acc: 0.9669\n",
      "Epoch 13/20\n",
      "46/46 [==============================] - 83s 2s/step - loss: 0.0558 - acc: 0.9905 - val_loss: 0.1304 - val_acc: 0.9687\n",
      "Epoch 14/20\n",
      "46/46 [==============================] - 81s 2s/step - loss: 0.0512 - acc: 0.9909 - val_loss: 0.1294 - val_acc: 0.9719\n",
      "Epoch 15/20\n",
      "46/46 [==============================] - 81s 2s/step - loss: 0.0350 - acc: 0.9957 - val_loss: 0.1562 - val_acc: 0.9620\n",
      "Epoch 16/20\n",
      "46/46 [==============================] - 80s 2s/step - loss: 0.0244 - acc: 0.9973 - val_loss: 0.1185 - val_acc: 0.9701\n",
      "Epoch 17/20\n",
      "46/46 [==============================] - 80s 2s/step - loss: 0.0164 - acc: 1.0000 - val_loss: 0.1306 - val_acc: 0.9685\n",
      "Epoch 18/20\n",
      "46/46 [==============================] - 79s 2s/step - loss: 0.0214 - acc: 0.9952 - val_loss: 0.1966 - val_acc: 0.9454\n",
      "Epoch 19/20\n",
      "46/46 [==============================] - 80s 2s/step - loss: 0.0185 - acc: 0.9986 - val_loss: 0.1673 - val_acc: 0.9605\n",
      "Epoch 20/20\n",
      "46/46 [==============================] - 80s 2s/step - loss: 0.0206 - acc: 0.9966 - val_loss: 0.1940 - val_acc: 0.9553\n"
     ]
    },
    {
     "data": {
      "text/plain": [
       "<keras.callbacks.History at 0x1bb352ddbe0>"
      ]
     },
     "execution_count": 13,
     "metadata": {},
     "output_type": "execute_result"
    }
   ],
   "source": [
    "\n",
    "model.fit_generator(x_train,samples_per_epoch=1495,epochs=20,validation_data=x_test,nb_val_samples=605)\n"
   ]
  },
  {
   "cell_type": "code",
   "execution_count": 18,
   "metadata": {},
   "outputs": [],
   "source": [
    "model.save('cnnanimals.h5')\n"
   ]
  },
  {
   "cell_type": "code",
   "execution_count": 19,
   "metadata": {},
   "outputs": [],
   "source": [
    "from keras.models import load_model\n",
    "import numpy as np\n",
    "import cv2\n",
    "model =load_model('cnnanimals.h5')\n",
    "model.compile(optimizer='adam',loss='categorical_crossentropy',metrics=['accuracy'])\n"
   ]
  },
  {
   "cell_type": "code",
   "execution_count": 20,
   "metadata": {},
   "outputs": [],
   "source": [
    "from skimage.transform import resize\n",
    "def detect(frame):\n",
    "    try:\n",
    "        img= resize(frame,(64,64))\n",
    "        \n",
    "        img = np.expand_dims(img,axis=0)\n",
    "        if(np.max(img)>1):\n",
    "            img =img/255.0\n",
    "        prediction =model.predict(img)\n",
    "        print (prediction)\n",
    "        prediction_class = model.predict_classes(img)\n",
    "        print(prediction_class)\n",
    "        return prediction_class\n",
    "    except AttributeError:\n",
    "            print(\"shape not found\")"
   ]
  },
  {
   "cell_type": "code",
   "execution_count": 21,
   "metadata": {},
   "outputs": [],
   "source": [
    "import time \n",
    "import cv2\n",
    "camera_port = 0\n",
    "camera = cv2.VideoCapture(camera_port)\n",
    "time.sleep(0.1)\n",
    "return_value, image = camera.read()\n",
    "cv2.imwrite(\"opencv.jpg\", image)\n",
    "del(camera) "
   ]
  },
  {
   "cell_type": "code",
   "execution_count": 32,
   "metadata": {},
   "outputs": [
    {
     "name": "stdout",
     "output_type": "stream",
     "text": [
      "[[5.6208047e-04 9.5537002e-04 2.3464150e-05 1.8260563e-04 9.9827647e-01]]\n",
      "[4]\n"
     ]
    }
   ],
   "source": [
    "frame=cv2.imread(r'C:\\Users\\hp\\Desktop\\animals\\testing set\\rats\\images (1).jpeg')\n",
    "data=detect(frame)\n",
    "                 "
   ]
  },
  {
   "cell_type": "code",
   "execution_count": null,
   "metadata": {},
   "outputs": [],
   "source": [
    "data"
   ]
  },
  {
   "cell_type": "code",
   "execution_count": null,
   "metadata": {},
   "outputs": [],
   "source": [
    "from playsound import playsound\n",
    "if(data[0]==0):\n",
    "    playsound(r'C:\\Users\\hp\\Downloads\\audio.mp3')\n",
    "elif(data[0]==1):\n",
    "    playsound(r'C:\\Users\\hp\\Downloads\\audio2.mp3')\n",
    "elif(data[0]==2):\n",
    "    playsound(r'C:\\Users\\hp\\Downloads\\audio3.mp3')\n",
    "elif(data[0]==3):\n",
    "    playsound(r'C:\\Users\\hp\\Downloads\\audio4.mp3')\n",
    "elif(data[0]==4):\n",
    "    playsound(r'C:\\Users\\hp\\Downloads\\audio5.mp3')\n",
    "    \n"
   ]
  },
  {
   "cell_type": "code",
   "execution_count": null,
   "metadata": {},
   "outputs": [],
   "source": []
  },
  {
   "cell_type": "code",
   "execution_count": null,
   "metadata": {},
   "outputs": [],
   "source": []
  }
 ],
 "metadata": {
  "kernelspec": {
   "display_name": "Python 3",
   "language": "python",
   "name": "python3"
  },
  "language_info": {
   "codemirror_mode": {
    "name": "ipython",
    "version": 3
   },
   "file_extension": ".py",
   "mimetype": "text/x-python",
   "name": "python",
   "nbconvert_exporter": "python",
   "pygments_lexer": "ipython3",
   "version": "3.7.3"
  }
 },
 "nbformat": 4,
 "nbformat_minor": 2
}
